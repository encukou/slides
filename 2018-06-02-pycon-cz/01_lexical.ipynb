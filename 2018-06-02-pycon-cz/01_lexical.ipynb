{
 "cells": [
  {
   "cell_type": "markdown",
   "metadata": {},
   "source": [
    "## So, you wrote some Python code.\n",
    "\n",
    "What needs to happen before it starts running?\n",
    "\n",
    "Once it's running, how does Python keep track of what it's doing?\n",
    "\n",
    "\n",
    "---\n"
   ]
  },
  {
   "cell_type": "code",
   "execution_count": 3,
   "metadata": {},
   "outputs": [
    {
     "name": "stdout",
     "output_type": "stream",
     "text": [
      "3.7.0b4 (default, May 15 2018, 20:15:17) \n",
      "[GCC 8.1.1 20180502 (Red Hat 8.1.1-1)]\n"
     ]
    }
   ],
   "source": [
    "import sys\n",
    "print(sys.version)"
   ]
  },
  {
   "cell_type": "code",
   "execution_count": 4,
   "metadata": {},
   "outputs": [],
   "source": [
    "import os\n",
    "import sys\n",
    "import dis\n",
    "import time\n",
    "import inspect\n",
    "import datetime"
   ]
  },
  {
   "cell_type": "code",
   "execution_count": null,
   "metadata": {},
   "outputs": [],
   "source": []
  },
  {
   "cell_type": "code",
   "execution_count": null,
   "metadata": {},
   "outputs": [],
   "source": []
  },
  {
   "cell_type": "code",
   "execution_count": null,
   "metadata": {},
   "outputs": [],
   "source": []
  },
  {
   "cell_type": "code",
   "execution_count": null,
   "metadata": {},
   "outputs": [],
   "source": []
  },
  {
   "cell_type": "code",
   "execution_count": null,
   "metadata": {},
   "outputs": [],
   "source": []
  },
  {
   "cell_type": "code",
   "execution_count": null,
   "metadata": {},
   "outputs": [],
   "source": []
  },
  {
   "cell_type": "code",
   "execution_count": null,
   "metadata": {},
   "outputs": [],
   "source": []
  },
  {
   "cell_type": "markdown",
   "metadata": {},
   "source": [
    "---\n",
    "# Lexical analysis\n",
    "(tokenization)"
   ]
  },
  {
   "cell_type": "code",
   "execution_count": 5,
   "metadata": {},
   "outputs": [],
   "source": [
    "import tokenize"
   ]
  },
  {
   "cell_type": "code",
   "execution_count": 7,
   "metadata": {},
   "outputs": [
    {
     "name": "stdout",
     "output_type": "stream",
     "text": [
      "     1\ta = 3\r\n",
      "     2\tb = 'Hello '\r\n",
      "     3\tprint(a * b)\r\n",
      "     4\t\r\n",
      "     5\tdef func(a=1, *b, **c):\r\n",
      "     6\t    return 7 + 3\r\n"
     ]
    }
   ],
   "source": [
    "!cat -n module.py"
   ]
  },
  {
   "cell_type": "code",
   "execution_count": 8,
   "metadata": {},
   "outputs": [
    {
     "name": "stdout",
     "output_type": "stream",
     "text": [
      "0,0-0,0:            ENCODING       'utf-8'        \r\n",
      "1,0-1,1:            NAME           'a'            \r\n",
      "1,2-1,3:            OP             '='            \r\n",
      "1,4-1,5:            NUMBER         '3'            \r\n",
      "1,5-1,6:            NEWLINE        '\\n'           \r\n",
      "2,0-2,1:            NAME           'b'            \r\n",
      "2,2-2,3:            OP             '='            \r\n",
      "2,4-2,12:           STRING         \"'Hello '\"     \r\n",
      "2,12-2,13:          NEWLINE        '\\n'           \r\n",
      "3,0-3,5:            NAME           'print'        \r\n",
      "3,5-3,6:            OP             '('            \r\n",
      "3,6-3,7:            NAME           'a'            \r\n",
      "3,8-3,9:            OP             '*'            \r\n",
      "3,10-3,11:          NAME           'b'            \r\n",
      "3,11-3,12:          OP             ')'            \r\n",
      "3,12-3,13:          NEWLINE        '\\n'           \r\n",
      "4,0-4,1:            NL             '\\n'           \r\n",
      "5,0-5,3:            NAME           'def'          \r\n",
      "5,4-5,8:            NAME           'func'         \r\n",
      "5,8-5,9:            OP             '('            \r\n",
      "5,9-5,10:           NAME           'a'            \r\n",
      "5,10-5,11:          OP             '='            \r\n",
      "5,11-5,12:          NUMBER         '1'            \r\n",
      "5,12-5,13:          OP             ','            \r\n",
      "5,14-5,15:          OP             '*'            \r\n",
      "5,15-5,16:          NAME           'b'            \r\n",
      "5,16-5,17:          OP             ','            \r\n",
      "5,18-5,20:          OP             '**'           \r\n",
      "5,20-5,21:          NAME           'c'            \r\n",
      "5,21-5,22:          OP             ')'            \r\n",
      "5,22-5,23:          OP             ':'            \r\n",
      "5,23-5,24:          NEWLINE        '\\n'           \r\n",
      "6,0-6,4:            INDENT         '    '         \r\n",
      "6,4-6,10:           NAME           'return'       \r\n",
      "6,11-6,12:          NUMBER         '7'            \r\n",
      "6,13-6,14:          OP             '+'            \r\n",
      "6,15-6,16:          NUMBER         '3'            \r\n",
      "6,16-6,17:          NEWLINE        '\\n'           \r\n",
      "7,0-7,0:            DEDENT         ''             \r\n",
      "7,0-7,0:            ENDMARKER      ''             \r\n"
     ]
    }
   ],
   "source": [
    "!python3 -m tokenize module.py"
   ]
  },
  {
   "cell_type": "code",
   "execution_count": 9,
   "metadata": {},
   "outputs": [
    {
     "name": "stdout",
     "output_type": "stream",
     "text": [
      "TokenInfo(type=57 (ENCODING), string='utf-8', start=(0, 0), end=(0, 0), line='')\n",
      "TokenInfo(type=1 (NAME), string='a', start=(1, 0), end=(1, 1), line='a = 3\\n')\n",
      "TokenInfo(type=53 (OP), string='=', start=(1, 2), end=(1, 3), line='a = 3\\n')\n",
      "TokenInfo(type=2 (NUMBER), string='3', start=(1, 4), end=(1, 5), line='a = 3\\n')\n",
      "TokenInfo(type=4 (NEWLINE), string='\\n', start=(1, 5), end=(1, 6), line='a = 3\\n')\n",
      "TokenInfo(type=1 (NAME), string='b', start=(2, 0), end=(2, 1), line=\"b = 'Hello '\\n\")\n",
      "TokenInfo(type=53 (OP), string='=', start=(2, 2), end=(2, 3), line=\"b = 'Hello '\\n\")\n",
      "TokenInfo(type=3 (STRING), string=\"'Hello '\", start=(2, 4), end=(2, 12), line=\"b = 'Hello '\\n\")\n",
      "TokenInfo(type=4 (NEWLINE), string='\\n', start=(2, 12), end=(2, 13), line=\"b = 'Hello '\\n\")\n",
      "TokenInfo(type=1 (NAME), string='print', start=(3, 0), end=(3, 5), line='print(a * b)\\n')\n",
      "TokenInfo(type=53 (OP), string='(', start=(3, 5), end=(3, 6), line='print(a * b)\\n')\n",
      "TokenInfo(type=1 (NAME), string='a', start=(3, 6), end=(3, 7), line='print(a * b)\\n')\n",
      "TokenInfo(type=53 (OP), string='*', start=(3, 8), end=(3, 9), line='print(a * b)\\n')\n",
      "TokenInfo(type=1 (NAME), string='b', start=(3, 10), end=(3, 11), line='print(a * b)\\n')\n",
      "TokenInfo(type=53 (OP), string=')', start=(3, 11), end=(3, 12), line='print(a * b)\\n')\n",
      "TokenInfo(type=4 (NEWLINE), string='\\n', start=(3, 12), end=(3, 13), line='print(a * b)\\n')\n",
      "TokenInfo(type=56 (NL), string='\\n', start=(4, 0), end=(4, 1), line='\\n')\n",
      "TokenInfo(type=1 (NAME), string='def', start=(5, 0), end=(5, 3), line='def func(a=1, *b, **c):\\n')\n",
      "TokenInfo(type=1 (NAME), string='func', start=(5, 4), end=(5, 8), line='def func(a=1, *b, **c):\\n')\n",
      "TokenInfo(type=53 (OP), string='(', start=(5, 8), end=(5, 9), line='def func(a=1, *b, **c):\\n')\n",
      "TokenInfo(type=1 (NAME), string='a', start=(5, 9), end=(5, 10), line='def func(a=1, *b, **c):\\n')\n",
      "TokenInfo(type=53 (OP), string='=', start=(5, 10), end=(5, 11), line='def func(a=1, *b, **c):\\n')\n",
      "TokenInfo(type=2 (NUMBER), string='1', start=(5, 11), end=(5, 12), line='def func(a=1, *b, **c):\\n')\n",
      "TokenInfo(type=53 (OP), string=',', start=(5, 12), end=(5, 13), line='def func(a=1, *b, **c):\\n')\n",
      "TokenInfo(type=53 (OP), string='*', start=(5, 14), end=(5, 15), line='def func(a=1, *b, **c):\\n')\n",
      "TokenInfo(type=1 (NAME), string='b', start=(5, 15), end=(5, 16), line='def func(a=1, *b, **c):\\n')\n",
      "TokenInfo(type=53 (OP), string=',', start=(5, 16), end=(5, 17), line='def func(a=1, *b, **c):\\n')\n",
      "TokenInfo(type=53 (OP), string='**', start=(5, 18), end=(5, 20), line='def func(a=1, *b, **c):\\n')\n",
      "TokenInfo(type=1 (NAME), string='c', start=(5, 20), end=(5, 21), line='def func(a=1, *b, **c):\\n')\n",
      "TokenInfo(type=53 (OP), string=')', start=(5, 21), end=(5, 22), line='def func(a=1, *b, **c):\\n')\n",
      "TokenInfo(type=53 (OP), string=':', start=(5, 22), end=(5, 23), line='def func(a=1, *b, **c):\\n')\n",
      "TokenInfo(type=4 (NEWLINE), string='\\n', start=(5, 23), end=(5, 24), line='def func(a=1, *b, **c):\\n')\n",
      "TokenInfo(type=5 (INDENT), string='    ', start=(6, 0), end=(6, 4), line='    return 7 + 3\\n')\n",
      "TokenInfo(type=1 (NAME), string='return', start=(6, 4), end=(6, 10), line='    return 7 + 3\\n')\n",
      "TokenInfo(type=2 (NUMBER), string='7', start=(6, 11), end=(6, 12), line='    return 7 + 3\\n')\n",
      "TokenInfo(type=53 (OP), string='+', start=(6, 13), end=(6, 14), line='    return 7 + 3\\n')\n",
      "TokenInfo(type=2 (NUMBER), string='3', start=(6, 15), end=(6, 16), line='    return 7 + 3\\n')\n",
      "TokenInfo(type=4 (NEWLINE), string='\\n', start=(6, 16), end=(6, 17), line='    return 7 + 3\\n')\n",
      "TokenInfo(type=6 (DEDENT), string='', start=(7, 0), end=(7, 0), line='')\n",
      "TokenInfo(type=0 (ENDMARKER), string='', start=(7, 0), end=(7, 0), line='')\n"
     ]
    }
   ],
   "source": [
    " with open('module.py' ,'rb') as f:\n",
    "    for token in tokenize.tokenize(f.readline):\n",
    "        print(token)"
   ]
  },
  {
   "cell_type": "markdown",
   "metadata": {},
   "source": [
    "### Summary\n",
    "\n",
    "When Python reads source code, it first converts it to a stream of *tokens* – word-like units of a language.\n",
    "\n",
    "Two of Python's tokens are fairly unique among programming languages: `INDENT` and `DEDENT`."
   ]
  }
 ],
 "metadata": {
  "kernelspec": {
   "display_name": "Python 3",
   "language": "python",
   "name": "python3"
  },
  "language_info": {
   "codemirror_mode": {
    "name": "ipython",
    "version": 3
   },
   "file_extension": ".py",
   "mimetype": "text/x-python",
   "name": "python",
   "nbconvert_exporter": "python",
   "pygments_lexer": "ipython3",
   "version": "3.7.0b4"
  }
 },
 "nbformat": 4,
 "nbformat_minor": 1
}
