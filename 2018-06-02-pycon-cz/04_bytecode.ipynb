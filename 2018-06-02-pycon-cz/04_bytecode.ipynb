{
 "cells": [
  {
   "cell_type": "markdown",
   "metadata": {},
   "source": [
    "---\n",
    "# Bytecode"
   ]
  },
  {
   "cell_type": "code",
   "execution_count": 1,
   "metadata": {},
   "outputs": [],
   "source": [
    "import ast\n",
    "import dis"
   ]
  },
  {
   "cell_type": "code",
   "execution_count": 2,
   "metadata": {},
   "outputs": [
    {
     "name": "stdout",
     "output_type": "stream",
     "text": [
      "a = 3\r\n",
      "b = 'Hello '\r\n",
      "print(a * b)\r\n",
      "\r\n",
      "def func(a=1, *b, **c):\r\n",
      "    return 7 + 3\r\n"
     ]
    }
   ],
   "source": [
    "!cat module.py"
   ]
  },
  {
   "cell_type": "code",
   "execution_count": 3,
   "metadata": {},
   "outputs": [],
   "source": [
    "with open('module.py' ,'rb') as f:\n",
    "    tree = ast.parse(f.read())\n",
    "\n",
    "code = compile(tree, filename='module.py', mode='exec')"
   ]
  },
  {
   "cell_type": "code",
   "execution_count": 4,
   "metadata": {
    "scrolled": true
   },
   "outputs": [
    {
     "data": {
      "text/plain": [
       "b'd\\x00Z\\x00d\\x01Z\\x01e\\x02e\\x00e\\x01\\x14\\x00\\x83\\x01\\x01\\x00d\\x06d\\x03d\\x04\\x84\\x01Z\\x03d\\x05S\\x00'"
      ]
     },
     "execution_count": 4,
     "metadata": {},
     "output_type": "execute_result"
    }
   ],
   "source": [
    "code.co_code"
   ]
  },
  {
   "cell_type": "code",
   "execution_count": 5,
   "metadata": {},
   "outputs": [
    {
     "name": "stdout",
     "output_type": "stream",
     "text": [
      "[100, 0, 90, 0, 100, 1, 90, 1, 101, 2, 101, 0, 101, 1, 20, 0, 131, 1, 1, 0, 100, 6, 100, 3, 100, 4, 132, 1, 90, 3, 100, 5, 83, 0]\n"
     ]
    }
   ],
   "source": [
    "print(list(b for b in code.co_code))"
   ]
  },
  {
   "cell_type": "code",
   "execution_count": 6,
   "metadata": {
    "scrolled": false
   },
   "outputs": [
    {
     "name": "stdout",
     "output_type": "stream",
     "text": [
      "  1           0 LOAD_CONST               0 (3)\n",
      "              2 STORE_NAME               0 (a)\n",
      "\n",
      "  2           4 LOAD_CONST               1 ('Hello ')\n",
      "              6 STORE_NAME               1 (b)\n",
      "\n",
      "  3           8 LOAD_NAME                2 (print)\n",
      "             10 LOAD_NAME                0 (a)\n",
      "             12 LOAD_NAME                1 (b)\n",
      "             14 BINARY_MULTIPLY\n",
      "             16 CALL_FUNCTION            1\n",
      "             18 POP_TOP\n",
      "\n",
      "  5          20 LOAD_CONST               6 ((1,))\n",
      "             22 LOAD_CONST               3 (<code object func at 0x7f42b4a66a50, file \"module.py\", line 5>)\n",
      "             24 LOAD_CONST               4 ('func')\n",
      "             26 MAKE_FUNCTION            1\n",
      "             28 STORE_NAME               3 (func)\n",
      "             30 LOAD_CONST               5 (None)\n",
      "             32 RETURN_VALUE\n",
      "\n",
      "Disassembly of <code object func at 0x7f42b4a66a50, file \"module.py\", line 5>:\n",
      "  6           0 LOAD_CONST               1 (10)\n",
      "              2 RETURN_VALUE\n"
     ]
    }
   ],
   "source": [
    "dis.dis(code)"
   ]
  },
  {
   "cell_type": "code",
   "execution_count": 7,
   "metadata": {},
   "outputs": [
    {
     "name": "stdout",
     "output_type": "stream",
     "text": [
      "  1           0 LOAD_CONST               0 (3)\r\n",
      "              2 STORE_NAME               0 (a)\r\n",
      "\r\n",
      "  2           4 LOAD_CONST               1 ('Hello ')\r\n",
      "              6 STORE_NAME               1 (b)\r\n",
      "\r\n",
      "  3           8 LOAD_NAME                2 (print)\r\n",
      "             10 LOAD_NAME                0 (a)\r\n",
      "             12 LOAD_NAME                1 (b)\r\n",
      "             14 BINARY_MULTIPLY\r\n",
      "             16 CALL_FUNCTION            1\r\n",
      "             18 POP_TOP\r\n",
      "\r\n",
      "  5          20 LOAD_CONST               6 ((1,))\r\n",
      "             22 LOAD_CONST               3 (<code object func at 0x7f46f552cf60, file \"module.py\", line 5>)\r\n",
      "             24 LOAD_CONST               4 ('func')\r\n",
      "             26 MAKE_FUNCTION            1\r\n",
      "             28 STORE_NAME               3 (func)\r\n",
      "             30 LOAD_CONST               5 (None)\r\n",
      "             32 RETURN_VALUE\r\n",
      "\r\n",
      "Disassembly of <code object func at 0x7f46f552cf60, file \"module.py\", line 5>:\r\n",
      "  6           0 LOAD_CONST               1 (10)\r\n",
      "              2 RETURN_VALUE\r\n"
     ]
    }
   ],
   "source": [
    "!python3 -m dis module.py"
   ]
  },
  {
   "cell_type": "code",
   "execution_count": null,
   "metadata": {},
   "outputs": [],
   "source": [
    "def print_dis(code):\n",
    "    line_starts = [a for a, b in dis.findlinestarts(code)]\n",
    "    for instr in dis.get_instructions(code):\n",
    "        if instr.offset in line_starts:\n",
    "            print()\n",
    "        print('{i.offset:2}    {i.opcode:3} {i.opname:20} {arg:>4} ({i.argrepr})'.format(\n",
    "                i=instr,\n",
    "                arg='-' if instr.arg is None else instr.arg))\n",
    "\n",
    "print_dis(code)"
   ]
  },
  {
   "cell_type": "code",
   "execution_count": null,
   "metadata": {},
   "outputs": [],
   "source": [
    "print(list(b for b in code.co_code))"
   ]
  },
  {
   "cell_type": "code",
   "execution_count": 8,
   "metadata": {},
   "outputs": [
    {
     "name": "stdout",
     "output_type": "stream",
     "text": [
      "100\n",
      "LOAD_CONST\n"
     ]
    }
   ],
   "source": [
    "print(dis.opmap['LOAD_CONST'])\n",
    "print(dis.opname[100])"
   ]
  },
  {
   "cell_type": "code",
   "execution_count": null,
   "metadata": {
    "scrolled": true
   },
   "outputs": [],
   "source": [
    "len(dis.opmap)"
   ]
  },
  {
   "cell_type": "markdown",
   "metadata": {},
   "source": [
    "## Functions"
   ]
  },
  {
   "cell_type": "code",
   "execution_count": 9,
   "metadata": {},
   "outputs": [
    {
     "name": "stdout",
     "output_type": "stream",
     "text": [
      "Hello Hello Hello \n"
     ]
    },
    {
     "data": {
      "text/plain": [
       "<function module.func(a=1, *b, **c)>"
      ]
     },
     "execution_count": 9,
     "metadata": {},
     "output_type": "execute_result"
    }
   ],
   "source": [
    "import module\n",
    "module.func"
   ]
  },
  {
   "cell_type": "code",
   "execution_count": 10,
   "metadata": {},
   "outputs": [
    {
     "data": {
      "text/plain": [
       "1"
      ]
     },
     "execution_count": 10,
     "metadata": {},
     "output_type": "execute_result"
    }
   ],
   "source": [
    "module.func.custom_attr = 1\n",
    "module.func.custom_attr"
   ]
  },
  {
   "cell_type": "code",
   "execution_count": 11,
   "metadata": {},
   "outputs": [
    {
     "data": {
      "text/plain": [
       "<code object func at 0x7f42b4a66b70, file \"/home/pviktori/dev/slides/2018-06-02-pycon-cz/module.py\", line 5>"
      ]
     },
     "execution_count": 11,
     "metadata": {},
     "output_type": "execute_result"
    }
   ],
   "source": [
    "module.func.__code__"
   ]
  },
  {
   "cell_type": "code",
   "execution_count": null,
   "metadata": {},
   "outputs": [],
   "source": [
    "dis.dis(module.func.__code__)"
   ]
  },
  {
   "cell_type": "code",
   "execution_count": null,
   "metadata": {},
   "outputs": [],
   "source": [
    "!cat module.py"
   ]
  },
  {
   "cell_type": "markdown",
   "metadata": {},
   "source": [
    "### Summary\n",
    "The *bytecode* is a set of instructions for the Python interpreter – a stack-based virtual machine. This is the most important part of a code object – it tells Python what to do.\n",
    "\n",
    "Each instruction is represented as two bytes: a byte of instruction and a byte of argument."
   ]
  }
 ],
 "metadata": {
  "kernelspec": {
   "display_name": "Python 3",
   "language": "python",
   "name": "python3"
  },
  "language_info": {
   "codemirror_mode": {
    "name": "ipython",
    "version": 3
   },
   "file_extension": ".py",
   "mimetype": "text/x-python",
   "name": "python",
   "nbconvert_exporter": "python",
   "pygments_lexer": "ipython3",
   "version": "3.7.0b4"
  }
 },
 "nbformat": 4,
 "nbformat_minor": 1
}
