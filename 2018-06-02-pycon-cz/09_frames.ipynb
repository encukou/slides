{
 "cells": [
  {
   "cell_type": "markdown",
   "metadata": {},
   "source": [
    "---\n",
    "# Frames"
   ]
  },
  {
   "cell_type": "code",
   "execution_count": 1,
   "metadata": {},
   "outputs": [],
   "source": [
    "import inspect"
   ]
  },
  {
   "cell_type": "code",
   "execution_count": 3,
   "metadata": {},
   "outputs": [
    {
     "name": "stdout",
     "output_type": "stream",
     "text": [
      "4\n"
     ]
    },
    {
     "data": {
      "text/plain": [
       "<frame at 0x7fe404653980, file '<ipython-input-3-201fde2a512f>', line 5, code inner>"
      ]
     },
     "execution_count": 3,
     "metadata": {},
     "output_type": "execute_result"
    }
   ],
   "source": [
    "def inner():\n",
    "    a = 1\n",
    "    frame = inspect.currentframe()\n",
    "    print(frame.f_lineno)\n",
    "    return frame\n",
    "def outer():\n",
    "    return inner()\n",
    "\n",
    "frame = outer()\n",
    "frame"
   ]
  },
  {
   "cell_type": "code",
   "execution_count": 4,
   "metadata": {},
   "outputs": [
    {
     "name": "stdout",
     "output_type": "stream",
     "text": [
      "f_code: <code object inner at 0x7fe406efdc00, file \"<ipython-input-3-201fde2a512f>\", line 1>\n",
      "f_lasti: 24\n",
      "f_lineno: 5\n",
      "f_locals: {'a': 1, 'frame': <frame at 0x7fe404653980, file '<ipython-input-3-201fde2a512f>', line 5, code inner>}\n",
      "f_back: <frame at 0x7fe404653b58, file '<ipython-input-3-201fde2a512f>', line 7, code outer>\n"
     ]
    }
   ],
   "source": [
    "print('f_code:', frame.f_code)\n",
    "print('f_lasti:', frame.f_lasti)\n",
    "print('f_lineno:', frame.f_lineno)\n",
    "print('f_locals:', frame.f_locals)\n",
    "print('f_back:', frame.f_back)"
   ]
  },
  {
   "cell_type": "code",
   "execution_count": null,
   "metadata": {},
   "outputs": [],
   "source": [
    "print('f_code:', frame.f_back.f_code)\n",
    "print('f_lasti:', frame.f_back.f_lasti)\n",
    "print('f_lineno:', frame.f_back.f_lineno)\n",
    "print('f_locals:', frame.f_back.f_locals)\n",
    "print('f_back:', frame.f_back.f_back)"
   ]
  },
  {
   "cell_type": "code",
   "execution_count": 5,
   "metadata": {},
   "outputs": [
    {
     "name": "stdout",
     "output_type": "stream",
     "text": [
      "inner:     return frame\n",
      "\n",
      "outer:     return inner()\n",
      "\n"
     ]
    }
   ],
   "source": [
    "def get_current_line(frame):\n",
    "    lines = inspect.getsourcelines(frame.f_code)[0]\n",
    "    index = frame.f_lineno - frame.f_code.co_firstlineno\n",
    "    return '{}: {}'.format(frame.f_code.co_name, lines[index])\n",
    "\n",
    "print(get_current_line(frame))\n",
    "print(get_current_line(frame.f_back))\n"
   ]
  },
  {
   "cell_type": "code",
   "execution_count": 6,
   "metadata": {},
   "outputs": [
    {
     "name": "stdout",
     "output_type": "stream",
     "text": [
      "  File \"/usr/lib64/python3.7/runpy.py\", line 193, in _run_module_as_main\n",
      "    \"__main__\", mod_spec)\n",
      "  File \"/usr/lib64/python3.7/runpy.py\", line 85, in _run_code\n",
      "    exec(code, run_globals)\n",
      "  File \"/home/pviktori/dev/slides/2018-06-02-pycon-cz/__venv__/lib64/python3.7/site-packages/ipykernel_launcher.py\", line 16, in <module>\n",
      "    app.launch_new_instance()\n",
      "  File \"/home/pviktori/dev/slides/2018-06-02-pycon-cz/__venv__/lib64/python3.7/site-packages/traitlets/config/application.py\", line 658, in launch_instance\n",
      "    app.start()\n",
      "  File \"/home/pviktori/dev/slides/2018-06-02-pycon-cz/__venv__/lib64/python3.7/site-packages/ipykernel/kernelapp.py\", line 486, in start\n",
      "    self.io_loop.start()\n",
      "  File \"/home/pviktori/dev/slides/2018-06-02-pycon-cz/__venv__/lib64/python3.7/site-packages/tornado/platform/asyncio.py\", line 127, in start\n",
      "    self.asyncio_loop.run_forever()\n",
      "  File \"/usr/lib64/python3.7/asyncio/base_events.py\", line 521, in run_forever\n",
      "    self._run_once()\n",
      "  File \"/usr/lib64/python3.7/asyncio/base_events.py\", line 1738, in _run_once\n",
      "    handle._run()\n",
      "  File \"/usr/lib64/python3.7/asyncio/events.py\", line 88, in _run\n",
      "    self._context.run(self._callback, *self._args)\n",
      "  File \"/home/pviktori/dev/slides/2018-06-02-pycon-cz/__venv__/lib64/python3.7/site-packages/tornado/platform/asyncio.py\", line 117, in _handle_events\n",
      "    handler_func(fileobj, events)\n",
      "  File \"/home/pviktori/dev/slides/2018-06-02-pycon-cz/__venv__/lib64/python3.7/site-packages/tornado/stack_context.py\", line 276, in null_wrapper\n",
      "    return fn(*args, **kwargs)\n",
      "  File \"/home/pviktori/dev/slides/2018-06-02-pycon-cz/__venv__/lib64/python3.7/site-packages/zmq/eventloop/zmqstream.py\", line 450, in _handle_events\n",
      "    self._handle_recv()\n",
      "  File \"/home/pviktori/dev/slides/2018-06-02-pycon-cz/__venv__/lib64/python3.7/site-packages/zmq/eventloop/zmqstream.py\", line 480, in _handle_recv\n",
      "    self._run_callback(callback, msg)\n",
      "  File \"/home/pviktori/dev/slides/2018-06-02-pycon-cz/__venv__/lib64/python3.7/site-packages/zmq/eventloop/zmqstream.py\", line 432, in _run_callback\n",
      "    callback(*args, **kwargs)\n",
      "  File \"/home/pviktori/dev/slides/2018-06-02-pycon-cz/__venv__/lib64/python3.7/site-packages/tornado/stack_context.py\", line 276, in null_wrapper\n",
      "    return fn(*args, **kwargs)\n",
      "  File \"/home/pviktori/dev/slides/2018-06-02-pycon-cz/__venv__/lib64/python3.7/site-packages/ipykernel/kernelbase.py\", line 283, in dispatcher\n",
      "    return self.dispatch_shell(stream, msg)\n",
      "  File \"/home/pviktori/dev/slides/2018-06-02-pycon-cz/__venv__/lib64/python3.7/site-packages/ipykernel/kernelbase.py\", line 233, in dispatch_shell\n",
      "    handler(stream, idents, msg)\n",
      "  File \"/home/pviktori/dev/slides/2018-06-02-pycon-cz/__venv__/lib64/python3.7/site-packages/ipykernel/kernelbase.py\", line 399, in execute_request\n",
      "    user_expressions, allow_stdin)\n",
      "  File \"/home/pviktori/dev/slides/2018-06-02-pycon-cz/__venv__/lib64/python3.7/site-packages/ipykernel/ipkernel.py\", line 208, in do_execute\n",
      "    res = shell.run_cell(code, store_history=store_history, silent=silent)\n",
      "  File \"/home/pviktori/dev/slides/2018-06-02-pycon-cz/__venv__/lib64/python3.7/site-packages/ipykernel/zmqshell.py\", line 537, in run_cell\n",
      "    return super(ZMQInteractiveShell, self).run_cell(*args, **kwargs)\n",
      "  File \"/home/pviktori/dev/slides/2018-06-02-pycon-cz/__venv__/lib64/python3.7/site-packages/IPython/core/interactiveshell.py\", line 2662, in run_cell\n",
      "    raw_cell, store_history, silent, shell_futures)\n",
      "  File \"/home/pviktori/dev/slides/2018-06-02-pycon-cz/__venv__/lib64/python3.7/site-packages/IPython/core/interactiveshell.py\", line 2785, in _run_cell\n",
      "    interactivity=interactivity, compiler=compiler, result=result)\n",
      "  File \"/home/pviktori/dev/slides/2018-06-02-pycon-cz/__venv__/lib64/python3.7/site-packages/IPython/core/interactiveshell.py\", line 2909, in run_ast_nodes\n",
      "    if self.run_code(code, result):\n",
      "  File \"/home/pviktori/dev/slides/2018-06-02-pycon-cz/__venv__/lib64/python3.7/site-packages/IPython/core/interactiveshell.py\", line 2963, in run_code\n",
      "    exec(code_obj, self.user_global_ns, self.user_ns)\n",
      "  File \"<ipython-input-6-1b3d946daec4>\", line 8, in <module>\n",
      "    print(''.join(recurse()))\n",
      "  File \"<ipython-input-6-1b3d946daec4>\", line 6, in recurse\n",
      "    return recurse(wait-1)\n",
      "  File \"<ipython-input-6-1b3d946daec4>\", line 6, in recurse\n",
      "    return recurse(wait-1)\n",
      "  File \"<ipython-input-6-1b3d946daec4>\", line 6, in recurse\n",
      "    return recurse(wait-1)\n",
      "  [Previous line repeated 7 more times]\n",
      "  File \"<ipython-input-6-1b3d946daec4>\", line 4, in recurse\n",
      "    return traceback.format_stack()\n",
      "\n"
     ]
    }
   ],
   "source": [
    "import traceback\n",
    "def recurse(wait=10):\n",
    "    if wait < 0:\n",
    "        return traceback.format_stack()\n",
    "    else:\n",
    "        return recurse(wait-1)\n",
    "\n",
    "print(''.join(recurse()))"
   ]
  },
  {
   "cell_type": "markdown",
   "metadata": {},
   "source": [
    "### Summary\n",
    "When code is executed, there exists a `frame` object for each running function. This object contains the current instruction, values of local variables, and a pointer to the \"parent\" frame, from which the current function was called.\n",
    "\n",
    "A traceback is generated by walking from the current frame to its parent, its parent's parent, and so on. Each time the current line is looked up based on the current instruction. (This lookup only takes place when the traceback is actually printed)."
   ]
  }
 ],
 "metadata": {
  "kernelspec": {
   "display_name": "Python 3",
   "language": "python",
   "name": "python3"
  },
  "language_info": {
   "codemirror_mode": {
    "name": "ipython",
    "version": 3
   },
   "file_extension": ".py",
   "mimetype": "text/x-python",
   "name": "python",
   "nbconvert_exporter": "python",
   "pygments_lexer": "ipython3",
   "version": "3.7.0b4"
  }
 },
 "nbformat": 4,
 "nbformat_minor": 1
}
