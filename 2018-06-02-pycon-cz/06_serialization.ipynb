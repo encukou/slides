{
 "cells": [
  {
   "cell_type": "markdown",
   "metadata": {},
   "source": [
    "---\n",
    "# Serialization"
   ]
  },
  {
   "cell_type": "code",
   "execution_count": 1,
   "metadata": {},
   "outputs": [],
   "source": [
    "import ast"
   ]
  },
  {
   "cell_type": "code",
   "execution_count": 2,
   "metadata": {},
   "outputs": [
    {
     "name": "stdout",
     "output_type": "stream",
     "text": [
      "     1\ta = 3\r\n",
      "     2\tb = 'Hello '\r\n",
      "     3\tprint(a * b)\r\n",
      "     4\t\r\n",
      "     5\tdef func(a=1, *b, **c):\r\n",
      "     6\t    return 7 + 3\r\n"
     ]
    }
   ],
   "source": [
    "!cat -n module.py"
   ]
  },
  {
   "cell_type": "code",
   "execution_count": 3,
   "metadata": {},
   "outputs": [
    {
     "name": "stdout",
     "output_type": "stream",
     "text": [
      "module.cpython-37.pyc\r\n"
     ]
    }
   ],
   "source": [
    "!ls __pycache__"
   ]
  },
  {
   "cell_type": "code",
   "execution_count": null,
   "metadata": {},
   "outputs": [],
   "source": [
    "import module"
   ]
  },
  {
   "cell_type": "code",
   "execution_count": null,
   "metadata": {},
   "outputs": [],
   "source": [
    "!ls __pycache__"
   ]
  },
  {
   "cell_type": "code",
   "execution_count": 4,
   "metadata": {},
   "outputs": [
    {
     "name": "stdout",
     "output_type": "stream",
     "text": [
      "[65, 13, 13, 10, 0, 0, 0, 0, 78, 99, 18, 91, 74, 0, 0, 0, 227, 0, 0, 0, 0, 0, 0, 0, 0, 0, 0, 0, 0, 3, 0, 0, 0, 64, 0, 0, 0, 115, 34, 0, 0, 0, 100, 0, 90, 0, 100, 1, 90, 1, 101, 2, 101, 0, 101, 1, 20, 0, 131, 1, 1, 0, 100, 6, 100, 3, 100, 4, 132, 1, 90, 3, 100, 5, 83, 0, 41, 7, 233, 3, 0, 0, 0, 122, 6, 72, 101, 108, 108, 111, 32, 233, 1, 0, 0, 0, 99, 1, 0, 0, 0, 0, 0, 0, 0, 3, 0, 0, 0, 1, 0, 0, 0, 79, 0, 0, 0, 115, 4, 0, 0, 0, 100, 1, 83, 0, 41, 2, 78, 233, 10, 0, 0, 0, 169, 0, 41, 3, 218, 1, 97, 218, 1, 98, 218, 1, 99, 114, 4, 0, 0, 0, 114, 4, 0, 0, 0, 250, 55, 47, 104, 111, 109, 101, 47, 112, 118, 105, 107, 116, 111, 114, 105, 47, 100, 101, 118, 47, 115, 108, 105, 100, 101, 115, 47, 50, 48, 49, 56, 45, 48, 54, 45, 48, 50, 45, 112, 121, 99, 111, 110, 45, 99, 122, 47, 109, 111, 100, 117, 108, 101, 46, 112, 121, 218, 4, 102, 117, 110, 99, 5, 0, 0, 0, 115, 2, 0, 0, 0, 0, 1, 114, 9, 0, 0, 0, 78, 41, 1, 114, 2, 0, 0, 0, 41, 4, 114, 5, 0, 0, 0, 114, 6, 0, 0, 0, 218, 5, 112, 114, 105, 110, 116, 114, 9, 0, 0, 0, 114, 4, 0, 0, 0, 114, 4, 0, 0, 0, 114, 4, 0, 0, 0, 114, 8, 0, 0, 0, 218, 8, 60, 109, 111, 100, 117, 108, 101, 62, 1, 0, 0, 0, 115, 6, 0, 0, 0, 4, 1, 4, 1, 12, 2]\n"
     ]
    }
   ],
   "source": [
    "with open('__pycache__/module.cpython-37.pyc', 'rb') as f:\n",
    "    module_bytes = f.read()\n",
    "\n",
    "print(list(module_bytes))"
   ]
  },
  {
   "cell_type": "code",
   "execution_count": 6,
   "metadata": {},
   "outputs": [
    {
     "data": {
      "text/plain": [
       "'{\"name\": \"Petr\", \"favorite_number\": 3}'"
      ]
     },
     "execution_count": 6,
     "metadata": {},
     "output_type": "execute_result"
    }
   ],
   "source": [
    "data = {'name': 'Petr', 'favorite_number': 3}\n",
    "\n",
    "import json\n",
    "representation = json.dumps(data)\n",
    "\n",
    "representation"
   ]
  },
  {
   "cell_type": "code",
   "execution_count": 7,
   "metadata": {},
   "outputs": [
    {
     "data": {
      "text/plain": [
       "{'name': 'Petr', 'favorite_number': 3}"
      ]
     },
     "execution_count": 7,
     "metadata": {},
     "output_type": "execute_result"
    }
   ],
   "source": [
    "json.loads(representation)"
   ]
  },
  {
   "cell_type": "code",
   "execution_count": 8,
   "metadata": {},
   "outputs": [],
   "source": [
    "with open('module.py' ,'rb') as f:\n",
    "    tree = ast.parse(f.read())\n",
    "\n",
    "code = compile(tree, filename='module.py', mode='exec')"
   ]
  },
  {
   "cell_type": "code",
   "execution_count": 10,
   "metadata": {},
   "outputs": [
    {
     "name": "stdout",
     "output_type": "stream",
     "text": [
      "<code object <module> at 0x7f758fea0ae0, file \"module.py\", line 1>\n"
     ]
    }
   ],
   "source": [
    "import marshal\n",
    "\n",
    "marshalled = marshal.dumps(code)\n",
    "print(marshal.loads(marshalled))\n"
   ]
  },
  {
   "cell_type": "code",
   "execution_count": 11,
   "metadata": {},
   "outputs": [
    {
     "name": "stdout",
     "output_type": "stream",
     "text": [
      "[227, 0, 0, 0, 0, 0, 0, 0, 0, 0, 0, 0, 0, 3, 0, 0, 0, 64, 0, 0, 0, 115, 34, 0, 0, 0, 100, 0, 90, 0, 100, 1, 90, 1, 101, 2, 101, 0, 101, 1, 20, 0, 131, 1, 1, 0, 100, 6, 100, 3, 100, 4, 132, 1, 90, 3, 100, 5, 83, 0, 41, 7, 233, 3, 0, 0, 0, 250, 6, 72, 101, 108, 108, 111, 32, 233, 1, 0, 0, 0, 99, 1, 0, 0, 0, 0, 0, 0, 0, 3, 0, 0, 0, 1, 0, 0, 0, 79, 0, 0, 0, 115, 4, 0, 0, 0, 100, 1, 83, 0, 41, 2, 78, 233, 10, 0, 0, 0, 169, 0, 41, 3, 218, 1, 97, 218, 1, 98, 218, 1, 99, 114, 5, 0, 0, 0, 114, 5, 0, 0, 0, 250, 9, 109, 111, 100, 117, 108, 101, 46, 112, 121, 218, 4, 102, 117, 110, 99, 5, 0, 0, 0, 115, 2, 0, 0, 0, 0, 1, 114, 10, 0, 0, 0, 78, 41, 1, 114, 3, 0, 0, 0, 41, 4, 114, 6, 0, 0, 0, 114, 7, 0, 0, 0, 218, 5, 112, 114, 105, 110, 116, 114, 10, 0, 0, 0, 114, 5, 0, 0, 0, 114, 5, 0, 0, 0, 114, 5, 0, 0, 0, 114, 9, 0, 0, 0, 218, 8, 60, 109, 111, 100, 117, 108, 101, 62, 1, 0, 0, 0, 115, 6, 0, 0, 0, 4, 1, 4, 1, 12, 2]\n"
     ]
    }
   ],
   "source": [
    "print(list(marshalled))\n"
   ]
  },
  {
   "cell_type": "code",
   "execution_count": 14,
   "metadata": {},
   "outputs": [
    {
     "name": "stdout",
     "output_type": "stream",
     "text": [
      "[65, 13, 13, 10, 0, 0, 0, 0, 78, 99, 18, 91, 74, 0, 0, 0, 227, 0, 0, 0, 0, 0, 0, 0, 0, 0, 0, 0, 0, 3, 0, 0, 0, 64, 0, 0, 0, 115, 34, 0, 0, 0, 100, 0, 90, 0, 100, 1, 90, 1, 101, 2, 101, 0, 101, 1, 20, 0, 131, 1, 1, 0, 100, 6, 100, 3, 100, 4, 132, 1, 90, 3, 100, 5, 83, 0, 41, 7, 233, 3, 0, 0, 0, 122, 6, 72, 101, 108, 108, 111, 32, 233, 1, 0, 0, 0, 99, 1, 0, 0, 0, 0, 0, 0, 0, 3, 0, 0, 0, 1, 0, 0, 0, 79, 0, 0, 0, 115, 4, 0, 0, 0, 100, 1, 83, 0, 41, 2, 78, 233, 10, 0, 0, 0, 169, 0, 41, 3, 218, 1, 97, 218, 1, 98, 218, 1, 99, 114, 4, 0, 0, 0, 114, 4, 0, 0, 0, 250, 55, 47, 104, 111, 109, 101, 47, 112, 118, 105, 107, 116, 111, 114, 105, 47, 100, 101, 118, 47, 115, 108, 105, 100, 101, 115, 47, 50, 48, 49, 56, 45, 48, 54, 45, 48, 50, 45, 112, 121, 99, 111, 110, 45, 99, 122, 47, 109, 111, 100, 117, 108, 101, 46, 112, 121, 218, 4, 102, 117, 110, 99, 5, 0, 0, 0, 115, 2, 0, 0, 0, 0, 1, 114, 9, 0, 0, 0, 78, 41, 1, 114, 2, 0, 0, 0, 41, 4, 114, 5, 0, 0, 0, 114, 6, 0, 0, 0, 218, 5, 112, 114, 105, 110, 116, 114, 9, 0, 0, 0, 114, 4, 0, 0, 0, 114, 4, 0, 0, 0, 114, 4, 0, 0, 0, 114, 8, 0, 0, 0, 218, 8, 60, 109, 111, 100, 117, 108, 101, 62, 1, 0, 0, 0, 115, 6, 0, 0, 0, 4, 1, 4, 1, 12, 2]\n"
     ]
    }
   ],
   "source": [
    "print(list(module_bytes))"
   ]
  },
  {
   "cell_type": "code",
   "execution_count": 15,
   "metadata": {},
   "outputs": [
    {
     "data": {
      "text/plain": [
       "True"
      ]
     },
     "execution_count": 15,
     "metadata": {},
     "output_type": "execute_result"
    }
   ],
   "source": [
    "marshal.loads(module_bytes[16:]) == code"
   ]
  },
  {
   "cell_type": "markdown",
   "metadata": {},
   "source": [
    "---"
   ]
  },
  {
   "cell_type": "code",
   "execution_count": 16,
   "metadata": {},
   "outputs": [
    {
     "name": "stdout",
     "output_type": "stream",
     "text": [
      "b'A\\r\\r\\n'\n"
     ]
    },
    {
     "data": {
      "text/plain": [
       "[65, 13, 13, 10]"
      ]
     },
     "execution_count": 16,
     "metadata": {},
     "output_type": "execute_result"
    }
   ],
   "source": [
    "print(module_bytes[0:4])\n",
    "list(module_bytes[0:4])"
   ]
  },
  {
   "cell_type": "code",
   "execution_count": 18,
   "metadata": {},
   "outputs": [
    {
     "name": "stdout",
     "output_type": "stream",
     "text": [
      "b'A\\r\\r\\n'\n"
     ]
    },
    {
     "data": {
      "text/plain": [
       "[65, 13, 13, 10]"
      ]
     },
     "execution_count": 18,
     "metadata": {},
     "output_type": "execute_result"
    }
   ],
   "source": [
    "import importlib.util\n",
    "print(importlib.util.MAGIC_NUMBER)\n",
    "list(importlib.util.MAGIC_NUMBER)"
   ]
  },
  {
   "cell_type": "markdown",
   "metadata": {},
   "source": [
    "---"
   ]
  },
  {
   "cell_type": "code",
   "execution_count": 19,
   "metadata": {},
   "outputs": [
    {
     "name": "stdout",
     "output_type": "stream",
     "text": [
      "b'\\x00\\x00\\x00\\x00'\n"
     ]
    },
    {
     "data": {
      "text/plain": [
       "[0, 0, 0, 0]"
      ]
     },
     "execution_count": 19,
     "metadata": {},
     "output_type": "execute_result"
    }
   ],
   "source": [
    "print(module_bytes[4:8])\n",
    "list(module_bytes[4:8])"
   ]
  },
  {
   "cell_type": "markdown",
   "metadata": {},
   "source": [
    "---"
   ]
  },
  {
   "cell_type": "code",
   "execution_count": 20,
   "metadata": {},
   "outputs": [
    {
     "name": "stdout",
     "output_type": "stream",
     "text": [
      "b'Nc\\x12['\n"
     ]
    },
    {
     "data": {
      "text/plain": [
       "[78, 99, 18, 91]"
      ]
     },
     "execution_count": 20,
     "metadata": {},
     "output_type": "execute_result"
    }
   ],
   "source": [
    "print(module_bytes[8:12])\n",
    "list(module_bytes[8:12])"
   ]
  },
  {
   "cell_type": "code",
   "execution_count": 22,
   "metadata": {},
   "outputs": [
    {
     "data": {
      "text/plain": [
       "1527931726"
      ]
     },
     "execution_count": 22,
     "metadata": {},
     "output_type": "execute_result"
    }
   ],
   "source": [
    "stamp_value = int.from_bytes(module_bytes[8:12], 'little')\n",
    "stamp_value"
   ]
  },
  {
   "cell_type": "code",
   "execution_count": 24,
   "metadata": {},
   "outputs": [
    {
     "data": {
      "text/plain": [
       "'2018-06-02 11:28:46'"
      ]
     },
     "execution_count": 24,
     "metadata": {},
     "output_type": "execute_result"
    }
   ],
   "source": [
    "import datetime\n",
    "datetime.datetime.fromtimestamp(stamp_value).isoformat(' ')"
   ]
  },
  {
   "cell_type": "markdown",
   "metadata": {},
   "source": [
    "---"
   ]
  },
  {
   "cell_type": "code",
   "execution_count": 25,
   "metadata": {},
   "outputs": [
    {
     "name": "stdout",
     "output_type": "stream",
     "text": [
      "b'J\\x00\\x00\\x00'\n"
     ]
    },
    {
     "data": {
      "text/plain": [
       "[74, 0, 0, 0]"
      ]
     },
     "execution_count": 25,
     "metadata": {},
     "output_type": "execute_result"
    }
   ],
   "source": [
    "print(module_bytes[12:16])\n",
    "list(module_bytes[12:16])"
   ]
  },
  {
   "cell_type": "code",
   "execution_count": 26,
   "metadata": {},
   "outputs": [
    {
     "data": {
      "text/plain": [
       "74"
      ]
     },
     "execution_count": 26,
     "metadata": {},
     "output_type": "execute_result"
    }
   ],
   "source": [
    "int.from_bytes(module_bytes[12:16], 'little')"
   ]
  },
  {
   "cell_type": "code",
   "execution_count": 27,
   "metadata": {},
   "outputs": [
    {
     "name": "stdout",
     "output_type": "stream",
     "text": [
      "74\n"
     ]
    }
   ],
   "source": [
    "with open('module.py', 'rb') as f:\n",
    "    print(len(f.read()))"
   ]
  },
  {
   "cell_type": "code",
   "execution_count": 28,
   "metadata": {},
   "outputs": [
    {
     "data": {
      "text/plain": [
       "os.stat_result(st_mode=33188, st_ino=10505258, st_dev=64768, st_nlink=1, st_uid=1000, st_gid=1000, st_size=74, st_atime=1527931731, st_mtime=1527931726, st_ctime=1527931726)"
      ]
     },
     "execution_count": 28,
     "metadata": {},
     "output_type": "execute_result"
    }
   ],
   "source": [
    "import os\n",
    "os.stat('module.py')"
   ]
  },
  {
   "cell_type": "markdown",
   "metadata": {},
   "source": [
    "\n",
    "### Summary\n",
    "The `.pyc` file stores the result of the compiler's hard work, so it doesn't have to compile again if the source file is not changed. It is generated (and read) as part of Python's import machinery – i.e. from \"import\" statements, not when running a module directly using `python module.py` or `python -m module`.\n",
    "\n",
    "The “meat” of a `.pyc` file is a code object serialized using the `marshal` module – an efficient format that only supports values that can appear as constants in Python files.\n",
    "The `.pyc` file adds a header to that, leading to this overall structure:\n",
    "\n",
    "* Bytes 0-3: Magic number (identifies a bytecode version)\n",
    "* Bytes 4-7: Modification time of source file\n",
    "* Bytes 8-11: Length of source file (in bytes)\n",
    "* Bytes 12 and on: `marshal`-ed code object"
   ]
  }
 ],
 "metadata": {
  "kernelspec": {
   "display_name": "Python 3",
   "language": "python",
   "name": "python3"
  },
  "language_info": {
   "codemirror_mode": {
    "name": "ipython",
    "version": 3
   },
   "file_extension": ".py",
   "mimetype": "text/x-python",
   "name": "python",
   "nbconvert_exporter": "python",
   "pygments_lexer": "ipython3",
   "version": "3.7.0b4"
  }
 },
 "nbformat": 4,
 "nbformat_minor": 1
}
