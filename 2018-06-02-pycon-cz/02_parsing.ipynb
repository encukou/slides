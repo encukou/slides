{
 "cells": [
  {
   "cell_type": "markdown",
   "metadata": {},
   "source": [
    "---\n",
    "\n",
    "# Parsing\n",
    "(Abstract Syntax Tree)"
   ]
  },
  {
   "cell_type": "code",
   "execution_count": 1,
   "metadata": {},
   "outputs": [],
   "source": [
    "import ast"
   ]
  },
  {
   "cell_type": "code",
   "execution_count": 2,
   "metadata": {},
   "outputs": [
    {
     "name": "stdout",
     "output_type": "stream",
     "text": [
      "     1\ta = 3\r\n",
      "     2\tb = 'Hello '\r\n",
      "     3\tprint(a * b)\r\n",
      "     4\t\r\n",
      "     5\tdef func(a=1, *b, **c):\r\n",
      "     6\t    return 7 + 3\r\n"
     ]
    }
   ],
   "source": [
    "!cat -n module.py"
   ]
  },
  {
   "cell_type": "code",
   "execution_count": 3,
   "metadata": {},
   "outputs": [
    {
     "name": "stdout",
     "output_type": "stream",
     "text": [
      "<_ast.Module object at 0x7f38c0884390>\n"
     ]
    }
   ],
   "source": [
    "with open('module.py' ,'rb') as f:\n",
    "    tree = ast.parse(f.read())\n",
    "\n",
    "print(tree)"
   ]
  },
  {
   "cell_type": "code",
   "execution_count": 4,
   "metadata": {},
   "outputs": [
    {
     "name": "stdout",
     "output_type": "stream",
     "text": [
      "('body', 'docstring')\n"
     ]
    }
   ],
   "source": [
    "print(tree._fields)"
   ]
  },
  {
   "cell_type": "code",
   "execution_count": 5,
   "metadata": {},
   "outputs": [
    {
     "name": "stdout",
     "output_type": "stream",
     "text": [
      "1 <_ast.Assign object at 0x7f38c08843c8>\n",
      "2 <_ast.Assign object at 0x7f38c0884470>\n",
      "3 <_ast.Expr object at 0x7f38c0884518>\n",
      "5 <_ast.FunctionDef object at 0x7f38c0884668>\n"
     ]
    }
   ],
   "source": [
    "for node in tree.body:\n",
    "    print(node.lineno, node)"
   ]
  },
  {
   "cell_type": "code",
   "execution_count": 6,
   "metadata": {},
   "outputs": [
    {
     "data": {
      "text/plain": [
       "\"Module(body=[Assign(targets=[Name(id='a', ctx=Store())], value=Num(n=3)), Assign(targets=[Name(id='b', ctx=Store())], value=Str(s='Hello ')), Expr(value=Call(func=Name(id='print', ctx=Load()), args=[BinOp(left=Name(id='a', ctx=Load()), op=Mult(), right=Name(id='b', ctx=Load()))], keywords=[])), FunctionDef(name='func', args=arguments(args=[arg(arg='a', annotation=None)], vararg=arg(arg='b', annotation=None), kwonlyargs=[], kw_defaults=[], kwarg=arg(arg='c', annotation=None), defaults=[Num(n=1)]), body=[Return(value=BinOp(left=Num(n=7), op=Add(), right=Num(n=3)))], decorator_list=[], returns=None, docstring=None)], docstring=None)\""
      ]
     },
     "execution_count": 6,
     "metadata": {},
     "output_type": "execute_result"
    }
   ],
   "source": [
    "ast.dump(tree)"
   ]
  },
  {
   "cell_type": "code",
   "execution_count": 7,
   "metadata": {
    "scrolled": false
   },
   "outputs": [
    {
     "name": "stdout",
     "output_type": "stream",
     "text": [
      "Module\n",
      "  .body: [\n",
      "    Assign\n",
      "      .targets: [\n",
      "        Name\n",
      "          .id = 'a'\n",
      "          .ctx:\n",
      "            Store\n",
      "      ]\n",
      "      .value:\n",
      "        Num\n",
      "          .n = 3\n",
      "    Assign\n",
      "      .targets: [\n",
      "        Name\n",
      "          .id = 'b'\n",
      "          .ctx:\n",
      "            Store\n",
      "      ]\n",
      "      .value:\n",
      "        Str\n",
      "          .s = 'Hello '\n",
      "    Expr\n",
      "      .value:\n",
      "        Call\n",
      "          .func:\n",
      "            Name\n",
      "              .id = 'print'\n",
      "              .ctx:\n",
      "                Load\n",
      "          .args: [\n",
      "            BinOp\n",
      "              .left:\n",
      "                Name\n",
      "                  .id = 'a'\n",
      "                  .ctx:\n",
      "                    Load\n",
      "              .op:\n",
      "                Mult\n",
      "              .right:\n",
      "                Name\n",
      "                  .id = 'b'\n",
      "                  .ctx:\n",
      "                    Load\n",
      "          ]\n",
      "          .keywords: []\n",
      "    FunctionDef\n",
      "      .name = 'func'\n",
      "      .args:\n",
      "        arguments\n",
      "          .args: [\n",
      "            arg\n",
      "              .arg = 'a'\n",
      "              .annotation = None\n",
      "          ]\n",
      "          .vararg:\n",
      "            arg\n",
      "              .arg = 'b'\n",
      "              .annotation = None\n",
      "          .kwonlyargs: []\n",
      "          .kw_defaults: []\n",
      "          .kwarg:\n",
      "            arg\n",
      "              .arg = 'c'\n",
      "              .annotation = None\n",
      "          .defaults: [\n",
      "            Num\n",
      "              .n = 1\n",
      "          ]\n",
      "      .body: [\n",
      "        Return\n",
      "          .value:\n",
      "            BinOp\n",
      "              .left:\n",
      "                Num\n",
      "                  .n = 7\n",
      "              .op:\n",
      "                Add\n",
      "              .right:\n",
      "                Num\n",
      "                  .n = 3\n",
      "      ]\n",
      "      .decorator_list: []\n",
      "      .returns = None\n",
      "      .docstring = None\n",
      "  ]\n",
      "  .docstring = None\n"
     ]
    }
   ],
   "source": [
    "def dump_ast(node, indent=''):\n",
    "    print('{}{}'.format(indent, type(node).__name__))\n",
    "    for name, value in ast.iter_fields(node):\n",
    "        if isinstance(value, ast.AST):\n",
    "            print('{}  .{}:'.format(indent, name))\n",
    "            dump_ast(value, indent + '    ')\n",
    "        elif isinstance(value, list):\n",
    "            if not value:\n",
    "                print('{}  .{}: []'.format(indent, name))\n",
    "            else:\n",
    "                print('{}  .{}: ['.format(indent, name))\n",
    "                for child in value:\n",
    "                    dump_ast(child, indent + '    ')\n",
    "                print('{}  ]'.format(indent))\n",
    "        else:\n",
    "            print('{}  .{} = {}'.format(indent, name, repr(value)))\n",
    "\n",
    "dump_ast(tree)"
   ]
  },
  {
   "cell_type": "markdown",
   "metadata": {},
   "source": [
    "See also: \"Full Grammar Specification\" in the Python docs\n",
    "\n",
    "## Summary\n",
    "\n",
    "The token stream is parsed, using Python's grammar, to arrive at the Abstract Syntax Tree – a graph-like representation of the program.\n",
    "\n",
    "It is possible to modify the AST, or generate it programmatically (even though the tools in the standard library aren't too usable). People have used this to add Lisp-like macros to Python, for example."
   ]
  }
 ],
 "metadata": {
  "kernelspec": {
   "display_name": "Python 3",
   "language": "python",
   "name": "python3"
  },
  "language_info": {
   "codemirror_mode": {
    "name": "ipython",
    "version": 3
   },
   "file_extension": ".py",
   "mimetype": "text/x-python",
   "name": "python",
   "nbconvert_exporter": "python",
   "pygments_lexer": "ipython3",
   "version": "3.7.0b4"
  }
 },
 "nbformat": 4,
 "nbformat_minor": 1
}
