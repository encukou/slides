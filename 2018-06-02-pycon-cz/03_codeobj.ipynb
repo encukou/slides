{
 "cells": [
  {
   "cell_type": "markdown",
   "metadata": {},
   "source": [
    "---\n",
    "# Code Objects"
   ]
  },
  {
   "cell_type": "code",
   "execution_count": 1,
   "metadata": {},
   "outputs": [],
   "source": [
    "import os\n",
    "import dis"
   ]
  },
  {
   "cell_type": "code",
   "execution_count": 2,
   "metadata": {},
   "outputs": [
    {
     "name": "stdout",
     "output_type": "stream",
     "text": [
      "a = 3\r\n",
      "b = 'Hello '\r\n",
      "print(a * b)\r\n",
      "\r\n",
      "def func(a=1, *b, **c):\r\n",
      "    return 7 + 3\r\n"
     ]
    }
   ],
   "source": [
    "!cat module.py"
   ]
  },
  {
   "cell_type": "code",
   "execution_count": 3,
   "metadata": {},
   "outputs": [
    {
     "name": "stdout",
     "output_type": "stream",
     "text": [
      "/home/pviktori/dev/slides/2018-06-02-pycon-cz/module.py\n"
     ]
    }
   ],
   "source": [
    "filename = os.path.abspath('module.py')\n",
    "print(filename)"
   ]
  },
  {
   "cell_type": "code",
   "execution_count": 4,
   "metadata": {},
   "outputs": [],
   "source": [
    "import ast\n",
    "with open('module.py' ,'rb') as f:\n",
    "    tree = ast.parse(f.read())"
   ]
  },
  {
   "cell_type": "code",
   "execution_count": 5,
   "metadata": {},
   "outputs": [
    {
     "name": "stdout",
     "output_type": "stream",
     "text": [
      "<code object <module> at 0x7f3ddd0eeae0, file \"/home/pviktori/dev/slides/2018-06-02-pycon-cz/module.py\", line 1>\n"
     ]
    }
   ],
   "source": [
    "code = compile(tree, filename=filename, mode='exec')\n",
    "\n",
    "print(code)"
   ]
  },
  {
   "cell_type": "code",
   "execution_count": 6,
   "metadata": {},
   "outputs": [
    {
     "name": "stdout",
     "output_type": "stream",
     "text": [
      "Hello Hello Hello \n"
     ]
    }
   ],
   "source": [
    "exec(code)"
   ]
  },
  {
   "cell_type": "code",
   "execution_count": 7,
   "metadata": {},
   "outputs": [
    {
     "name": "stdout",
     "output_type": "stream",
     "text": [
      "Name:              <module>\n",
      "Filename:          /home/pviktori/dev/slides/2018-06-02-pycon-cz/module.py\n",
      "Argument count:    0\n",
      "Kw-only arguments: 0\n",
      "Number of locals:  0\n",
      "Stack size:        3\n",
      "Flags:             NOFREE\n",
      "Constants:\n",
      "   0: 3\n",
      "   1: 'Hello '\n",
      "   2: 1\n",
      "   3: <code object func at 0x7f3ddd0eea50, file \"/home/pviktori/dev/slides/2018-06-02-pycon-cz/module.py\", line 5>\n",
      "   4: 'func'\n",
      "   5: None\n",
      "   6: (1,)\n",
      "Names:\n",
      "   0: a\n",
      "   1: b\n",
      "   2: print\n",
      "   3: func\n"
     ]
    }
   ],
   "source": [
    "print(dis.code_info(code))"
   ]
  },
  {
   "cell_type": "code",
   "execution_count": 8,
   "metadata": {},
   "outputs": [
    {
     "name": "stdout",
     "output_type": "stream",
     "text": [
      "<code object <module> at 0x7f3ddd0eeae0, file \"/home/pviktori/dev/slides/2018-06-02-pycon-cz/module.py\", line 1>\n",
      "  co_argcount: 0\n",
      "  co_cellvars: ()\n",
      "  co_code: b'd\\x00Z\\x00d\\x01Z\\x01e\\x02e\\x00e\\x01\\x14\\x00\\x83\\x01\\x01\\x00d\\x06d\\x03d\\x04\\x84\\x01Z\\x03d\\x05S\\x00'\n",
      "  co_consts: (3, 'Hello ', 1, <code object func at 0x7f3ddd0eea50, file \"/home/pviktori/dev/slides/2018-06-02-pycon-cz/module.py\", line 5>, 'func', None, (1,))\n",
      "  co_filename: /home/pviktori/dev/slides/2018-06-02-pycon-cz/module.py\n",
      "  co_firstlineno: 1\n",
      "  co_flags: 64\n",
      "  co_freevars: ()\n",
      "  co_kwonlyargcount: 0\n",
      "  co_lnotab: b'\\x04\\x01\\x04\\x01\\x0c\\x02'\n",
      "  co_name: <module>\n",
      "  co_names: ('a', 'b', 'print', 'func')\n",
      "  co_nlocals: 0\n",
      "  co_stacksize: 3\n",
      "  co_varnames: ()\n"
     ]
    }
   ],
   "source": [
    "def dump_code_attrs(code):\n",
    "    print(code)\n",
    "    for attr_name in dir(code):\n",
    "        if not attr_name.startswith('__'):\n",
    "            print('  {}: {}'.format(attr_name, getattr(code, attr_name)))\n",
    "\n",
    "dump_code_attrs(code)"
   ]
  },
  {
   "cell_type": "code",
   "execution_count": null,
   "metadata": {},
   "outputs": [],
   "source": [
    "func_code = code.co_consts[3]\n",
    "dump_code_attrs(func_code)\n",
    "print(dis.code_info(func_code))"
   ]
  },
  {
   "cell_type": "markdown",
   "metadata": {},
   "source": [
    "### Summary\n",
    "The Abstract Syntax Tree can be compiled down to a *code object*, a structure that holds all details of the program in a compact form – ready to be executed or saved.\n",
    "\n",
    "The code objects contains, among other things, variable names and constants used in the code. Functions defined in the code are also represented as constants: other code objects!"
   ]
  },
  {
   "cell_type": "code",
   "execution_count": null,
   "metadata": {},
   "outputs": [],
   "source": []
  },
  {
   "cell_type": "code",
   "execution_count": null,
   "metadata": {},
   "outputs": [],
   "source": []
  }
 ],
 "metadata": {
  "kernelspec": {
   "display_name": "Python 3",
   "language": "python",
   "name": "python3"
  },
  "language_info": {
   "codemirror_mode": {
    "name": "ipython",
    "version": 3
   },
   "file_extension": ".py",
   "mimetype": "text/x-python",
   "name": "python",
   "nbconvert_exporter": "python",
   "pygments_lexer": "ipython3",
   "version": "3.7.0b4"
  }
 },
 "nbformat": 4,
 "nbformat_minor": 1
}
